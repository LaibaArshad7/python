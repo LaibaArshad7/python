{
 "cells": [
  {
   "cell_type": "code",
   "execution_count": 2,
   "id": "57c10407",
   "metadata": {},
   "outputs": [
    {
     "name": "stdout",
     "output_type": "stream",
     "text": [
      "grade B\n"
     ]
    }
   ],
   "source": [
    "physics=70;\n",
    "maths=80;\n",
    "english=65;\n",
    "chemistry=60;\n",
    "total=physics+maths+english+chemistry;\n",
    "average=total/4\n",
    "if average >=90 and average <=100:\n",
    "    print(\"grade A+1\");\n",
    "elif average >=80 and average <=90:\n",
    "    print(\"grade A+\");\n",
    "elif average >=70 and average <=80:\n",
    "    print(\"grade A\");\n",
    "elif average >=60 and average <=70:\n",
    "    print(\"grade B\");\n",
    "elif average >=50 and average <=60:\n",
    "    print(\"grade C\");\n",
    "elif average >=40 and average <=50:\n",
    "    print(\"grade D\");\n",
    "elif average>=33 and average<=40:\n",
    "    print(\"print E\");\n",
    "elif average <=32:\n",
    "    print(\"Fail\");\n",
    "else:\n",
    "    print(\"Invalid Marks\");"
   ]
  },
  {
   "cell_type": "code",
   "execution_count": null,
   "id": "23f2adfa",
   "metadata": {},
   "outputs": [],
   "source": []
  }
 ],
 "metadata": {
  "kernelspec": {
   "display_name": "Python 3",
   "language": "python",
   "name": "python3"
  },
  "language_info": {
   "codemirror_mode": {
    "name": "ipython",
    "version": 3
   },
   "file_extension": ".py",
   "mimetype": "text/x-python",
   "name": "python",
   "nbconvert_exporter": "python",
   "pygments_lexer": "ipython3",
   "version": "3.8.8"
  }
 },
 "nbformat": 4,
 "nbformat_minor": 5
}
