{
 "cells": [
  {
   "cell_type": "code",
   "execution_count": 2,
   "id": "0b570107",
   "metadata": {},
   "outputs": [
    {
     "name": "stdout",
     "output_type": "stream",
     "text": [
      "Zulqi,Rani,ehsan,Samina,Bilal,Annad\n"
     ]
    }
   ],
   "source": [
    "name1= \"Zulqi\";\n",
    "name2= \"Rani\";\n",
    "name3= \"ehsan\";\n",
    "name4= \"Samina\";\n",
    "name5= \"Bilal\";\n",
    "name6= \"Annad\";\n",
    "print(name1+\",\"+name2+\",\"+name3+\",\"+name4+\",\"+name5+\",\"+name6)"
   ]
  },
  {
   "cell_type": "code",
   "execution_count": 1,
   "id": "33ae558e",
   "metadata": {},
   "outputs": [
    {
     "name": "stdout",
     "output_type": "stream",
     "text": [
      "['Zulqi', 'Rani', 'ehsan', 'Samina', 'Bilal', 'Annad']\n"
     ]
    }
   ],
   "source": [
    "#list\n",
    "\n",
    "name=[\"Zulqi\",\"Rani\",\"ehsan\",\"Samina\",\"Bilal\",\"Annad\"];\n",
    "print(name)"
   ]
  },
  {
   "cell_type": "code",
   "execution_count": 2,
   "id": "179c02e2",
   "metadata": {},
   "outputs": [
    {
     "name": "stdout",
     "output_type": "stream",
     "text": [
      "Zulqi\n"
     ]
    }
   ],
   "source": [
    "print(name[0]);"
   ]
  },
  {
   "cell_type": "code",
   "execution_count": 3,
   "id": "28252b9e",
   "metadata": {},
   "outputs": [
    {
     "name": "stdout",
     "output_type": "stream",
     "text": [
      "['Zulqi', 'Ali', 'ehsan', 'Samina', 'Bilal', 'Annad']\n"
     ]
    }
   ],
   "source": [
    "name[1]=\"Ali\";\n",
    "print(name);"
   ]
  },
  {
   "cell_type": "code",
   "execution_count": 4,
   "id": "ee13b824",
   "metadata": {},
   "outputs": [
    {
     "name": "stdout",
     "output_type": "stream",
     "text": [
      "['Zulqi', 'Ali', 'ehsan', 'Samina', 'Bilal', 'Annad', 'Ahmed']\n"
     ]
    }
   ],
   "source": [
    "name.append(\"Ahmed\");\n",
    "print(name);"
   ]
  },
  {
   "cell_type": "code",
   "execution_count": 5,
   "id": "643e5aef",
   "metadata": {},
   "outputs": [
    {
     "name": "stdout",
     "output_type": "stream",
     "text": [
      "['lion', 12, True, 5.69]\n"
     ]
    }
   ],
   "source": [
    "arr=[\"lion\",12,True,5.69]\n",
    "print(arr);"
   ]
  },
  {
   "cell_type": "code",
   "execution_count": 6,
   "id": "1e4ecac8",
   "metadata": {},
   "outputs": [
    {
     "data": {
      "text/plain": [
       "['Zulqi', 'Ali', 'ehsan', 'Samina', 'Bilal', 'Annad', 'Ahmed']"
      ]
     },
     "execution_count": 6,
     "metadata": {},
     "output_type": "execute_result"
    }
   ],
   "source": [
    "name\n"
   ]
  },
  {
   "cell_type": "code",
   "execution_count": 7,
   "id": "3c8d6568",
   "metadata": {},
   "outputs": [
    {
     "name": "stdout",
     "output_type": "stream",
     "text": [
      "['Zulqi', 'Ali', 'ehsan', 'Samina', 'Bilal', 'Annad', 'Ahmed', 'lion', 12, True, 5.69]\n"
     ]
    }
   ],
   "source": [
    "newList = name + arr;\n",
    "print(newList);"
   ]
  },
  {
   "cell_type": "code",
   "execution_count": 8,
   "id": "bcba9b25",
   "metadata": {},
   "outputs": [
    {
     "data": {
      "text/plain": [
       "['Zulqi', 'Ali', 'ehsan', 'Samina', 'Bilal', 'Annad', 'Ahmed']"
      ]
     },
     "execution_count": 8,
     "metadata": {},
     "output_type": "execute_result"
    }
   ],
   "source": [
    "name"
   ]
  },
  {
   "cell_type": "code",
   "execution_count": 9,
   "id": "6cc1251b",
   "metadata": {},
   "outputs": [
    {
     "name": "stdout",
     "output_type": "stream",
     "text": [
      "None\n"
     ]
    }
   ],
   "source": [
    "name = name.insert(3,\"Rashid\");\n",
    "print(name);"
   ]
  },
  {
   "cell_type": "code",
   "execution_count": 10,
   "id": "7a9be8c9",
   "metadata": {},
   "outputs": [
    {
     "name": "stdout",
     "output_type": "stream",
     "text": [
      "['lion', 12, True, 5.69]\n"
     ]
    }
   ],
   "source": [
    "arr=[\"lion\",12,True,5.69]\n",
    "print(arr);"
   ]
  },
  {
   "cell_type": "code",
   "execution_count": 11,
   "id": "be637b2e",
   "metadata": {},
   "outputs": [
    {
     "name": "stdout",
     "output_type": "stream",
     "text": [
      "['lion', 12, 'Raza', True, 5.69]\n"
     ]
    }
   ],
   "source": [
    "arr.insert(2,\"Raza\");\n",
    "print(arr);"
   ]
  },
  {
   "cell_type": "code",
   "execution_count": 12,
   "id": "cbd97096",
   "metadata": {},
   "outputs": [
    {
     "name": "stdout",
     "output_type": "stream",
     "text": [
      "['Raza', True]\n"
     ]
    }
   ],
   "source": [
    "arr2= arr[2:4];\n",
    "print(arr2);"
   ]
  },
  {
   "cell_type": "code",
   "execution_count": 13,
   "id": "fb26d99e",
   "metadata": {},
   "outputs": [
    {
     "name": "stdout",
     "output_type": "stream",
     "text": [
      "['lion', 12, True, 5.69]\n"
     ]
    }
   ],
   "source": [
    "del arr[2];\n",
    "print(arr);"
   ]
  },
  {
   "cell_type": "code",
   "execution_count": 15,
   "id": "d7ad12ea",
   "metadata": {},
   "outputs": [
    {
     "name": "stdout",
     "output_type": "stream",
     "text": [
      "['lion', True, 5.69]\n"
     ]
    }
   ],
   "source": [
    "arr.remove(12);\n",
    "print(arr);"
   ]
  },
  {
   "cell_type": "code",
   "execution_count": 17,
   "id": "bb22bf74",
   "metadata": {},
   "outputs": [
    {
     "name": "stdout",
     "output_type": "stream",
     "text": [
      "['lion', True]\n"
     ]
    }
   ],
   "source": [
    "arr.pop();\n",
    "print(arr);"
   ]
  },
  {
   "cell_type": "code",
   "execution_count": null,
   "id": "20e3c5c2",
   "metadata": {},
   "outputs": [],
   "source": []
  }
 ],
 "metadata": {
  "kernelspec": {
   "display_name": "Python 3",
   "language": "python",
   "name": "python3"
  },
  "language_info": {
   "codemirror_mode": {
    "name": "ipython",
    "version": 3
   },
   "file_extension": ".py",
   "mimetype": "text/x-python",
   "name": "python",
   "nbconvert_exporter": "python",
   "pygments_lexer": "ipython3",
   "version": "3.8.8"
  }
 },
 "nbformat": 4,
 "nbformat_minor": 5
}
