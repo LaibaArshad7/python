{
 "cells": [
  {
   "cell_type": "code",
   "execution_count": 1,
   "id": "850f9233",
   "metadata": {},
   "outputs": [
    {
     "name": "stdout",
     "output_type": "stream",
     "text": [
      "12\n"
     ]
    }
   ],
   "source": [
    "a=3;\n",
    "b=4;\n",
    "c=a*b;\n",
    "print(c);"
   ]
  },
  {
   "cell_type": "code",
   "execution_count": 2,
   "id": "4afa3582",
   "metadata": {},
   "outputs": [
    {
     "name": "stdout",
     "output_type": "stream",
     "text": [
      "15\n"
     ]
    }
   ],
   "source": [
    "m=5;\n",
    "s=3;\n",
    "w=m*s;\n",
    "print(w);"
   ]
  },
  {
   "cell_type": "code",
   "execution_count": 3,
   "id": "ab855549",
   "metadata": {},
   "outputs": [
    {
     "name": "stdout",
     "output_type": "stream",
     "text": [
      "27\n"
     ]
    }
   ],
   "source": [
    "p=9;\n",
    "q=3;\n",
    "r=p*q;\n",
    "print(r);"
   ]
  },
  {
   "cell_type": "code",
   "execution_count": 4,
   "id": "42d16c83",
   "metadata": {},
   "outputs": [
    {
     "name": "stdout",
     "output_type": "stream",
     "text": [
      "66\n"
     ]
    }
   ],
   "source": [
    "l=3;\n",
    "j=22;\n",
    "h=l*j;\n",
    "print(h);"
   ]
  },
  {
   "cell_type": "markdown",
   "id": "2cce3f10",
   "metadata": {},
   "source": []
  },
  {
   "cell_type": "code",
   "execution_count": 5,
   "id": "51039189",
   "metadata": {},
   "outputs": [
    {
     "name": "stdout",
     "output_type": "stream",
     "text": [
      "2.0\n"
     ]
    }
   ],
   "source": [
    "a=4;\n",
    "b=2;\n",
    "c=a/b;\n",
    "print(c);"
   ]
  },
  {
   "cell_type": "code",
   "execution_count": 6,
   "id": "a5238594",
   "metadata": {},
   "outputs": [
    {
     "name": "stdout",
     "output_type": "stream",
     "text": [
      "10.0\n"
     ]
    }
   ],
   "source": [
    "m=20;\n",
    "s=2;\n",
    "w=m/s;\n",
    "print(w);"
   ]
  },
  {
   "cell_type": "code",
   "execution_count": 7,
   "id": "4741a42d",
   "metadata": {},
   "outputs": [
    {
     "name": "stdout",
     "output_type": "stream",
     "text": [
      "9.0\n"
     ]
    }
   ],
   "source": [
    "p=45;\n",
    "q=5;\n",
    "r=p/q;\n",
    "print(r);"
   ]
  },
  {
   "cell_type": "code",
   "execution_count": 8,
   "id": "1bd60e79",
   "metadata": {},
   "outputs": [
    {
     "name": "stdout",
     "output_type": "stream",
     "text": [
      "6.0\n"
     ]
    }
   ],
   "source": [
    "c=36;\n",
    "b=6;\n",
    "a=c/b;\n",
    "print(a);"
   ]
  },
  {
   "cell_type": "code",
   "execution_count": 9,
   "id": "3bc3f9e4",
   "metadata": {},
   "outputs": [
    {
     "name": "stdout",
     "output_type": "stream",
     "text": [
      "<class 'float'>\n"
     ]
    }
   ],
   "source": [
    "print(type(a))"
   ]
  },
  {
   "cell_type": "code",
   "execution_count": 10,
   "id": "78a8c39a",
   "metadata": {},
   "outputs": [
    {
     "name": "stdout",
     "output_type": "stream",
     "text": [
      "Laiba\n"
     ]
    }
   ],
   "source": [
    "print(\"Laiba\");"
   ]
  },
  {
   "cell_type": "code",
   "execution_count": 11,
   "id": "eb7ff364",
   "metadata": {},
   "outputs": [
    {
     "name": "stdout",
     "output_type": "stream",
     "text": [
      "My name is Moiz\n"
     ]
    }
   ],
   "source": [
    "# concatenation two strings are combine togrther is known as concatenation\n",
    "name=\"Moiz\"\n",
    "print(\"My name is \" + name)"
   ]
  },
  {
   "cell_type": "code",
   "execution_count": 12,
   "id": "8746b5fd",
   "metadata": {},
   "outputs": [
    {
     "name": "stdout",
     "output_type": "stream",
     "text": [
      "my name isnadia\n"
     ]
    }
   ],
   "source": [
    "name=\"nadia\";\n",
    "print(\"my name is\"+name);        "
   ]
  },
  {
   "cell_type": "code",
   "execution_count": 13,
   "id": "8fec0fb3",
   "metadata": {},
   "outputs": [
    {
     "name": "stdout",
     "output_type": "stream",
     "text": [
      "my name isarshad\n"
     ]
    }
   ],
   "source": [
    "name=\"arshad\";\n",
    "print(\"my name is\" +name);"
   ]
  },
  {
   "cell_type": "code",
   "execution_count": 16,
   "id": "21bc20d5",
   "metadata": {},
   "outputs": [
    {
     "name": "stdout",
     "output_type": "stream",
     "text": [
      "my name is laiba\n"
     ]
    }
   ],
   "source": [
    "name=\"laiba\";\n",
    "print(\"my name is \" + name);"
   ]
  },
  {
   "cell_type": "code",
   "execution_count": 15,
   "id": "36a1cd4f",
   "metadata": {},
   "outputs": [
    {
     "name": "stdout",
     "output_type": "stream",
     "text": [
      "my name islaiba\n"
     ]
    }
   ],
   "source": [
    "name=\"laiba\";\n",
    "print(\"my name is\" + name);"
   ]
  },
  {
   "cell_type": "code",
   "execution_count": 17,
   "id": "f3295e9f",
   "metadata": {},
   "outputs": [
    {
     "name": "stdout",
     "output_type": "stream",
     "text": [
      "my name is faizi\n"
     ]
    }
   ],
   "source": [
    "name=\"faizi\";\n",
    "print(\"my name is \" + name);"
   ]
  },
  {
   "cell_type": "code",
   "execution_count": 19,
   "id": "3ea8c648",
   "metadata": {},
   "outputs": [
    {
     "name": "stdout",
     "output_type": "stream",
     "text": [
      "Your Grade is B\n"
     ]
    }
   ],
   "source": [
    "# if else statement\n",
    "physics=60;\n",
    "maths=78;\n",
    "islamiat=69;\n",
    "total=physics+maths+islamiat;\n",
    "Average=total/3;\n",
    "if Average >=90 and Average <=100:\n",
    "    print(\"Your Grade is A+1\");\n",
    "elif Average >=80 and Average<=90:\n",
    "    print(\"Your Grade is A+\");\n",
    "elif Average >=70 and Average<=80:\n",
    "    print(\"Your Grade is A\");\n",
    "elif Average >=60 and Average <=70:\n",
    "    print(\"Your Grade is B\");\n",
    "elif Average >=50 and Average <=60:\n",
    "    print(\"Your Grade is C\");\n",
    "elif Average >=40 and Average <=50:\n",
    "    print(\"Your Grade is D\");\n",
    "elif Average >=33 and Average<=40:\n",
    "    print(\"Your Grade is E\");\n",
    "elif Average <=32:\n",
    "    print(\"You are Fail \");\n",
    "else:\n",
    "    print(\"Invalid Marks!\")"
   ]
  },
  {
   "cell_type": "code",
   "execution_count": null,
   "id": "c3f38812",
   "metadata": {},
   "outputs": [],
   "source": []
  }
 ],
 "metadata": {
  "kernelspec": {
   "display_name": "Python 3",
   "language": "python",
   "name": "python3"
  },
  "language_info": {
   "codemirror_mode": {
    "name": "ipython",
    "version": 3
   },
   "file_extension": ".py",
   "mimetype": "text/x-python",
   "name": "python",
   "nbconvert_exporter": "python",
   "pygments_lexer": "ipython3",
   "version": "3.8.8"
  }
 },
 "nbformat": 4,
 "nbformat_minor": 5
}
